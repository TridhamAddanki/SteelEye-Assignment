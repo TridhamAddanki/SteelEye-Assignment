{
 "cells": [
  {
   "cell_type": "code",
   "execution_count": 2,
   "metadata": {},
   "outputs": [
    {
     "name": "stdout",
     "output_type": "stream",
     "text": [
      "http://firds.esma.europa.eu/firds/DLTINS_20210117_01of01.zip\n",
      "http://firds.esma.europa.eu/firds/DLTINS_20210117_01of01.zip\n",
      "http://firds.esma.europa.eu/firds/DLTINS_20210117_01of01.zip\n",
      "http://firds.esma.europa.eu/firds/DLTINS_20210117_01of01.zip\n",
      "http://firds.esma.europa.eu/firds/DLTINS_20210117_01of01.zip\n",
      "http://firds.esma.europa.eu/firds/DLTINS_20210117_01of01.zip\n",
      "http://firds.esma.europa.eu/firds/DLTINS_20210117_01of01.zip\n",
      "http://firds.esma.europa.eu/firds/DLTINS_20210117_01of01.zip\n",
      "http://firds.esma.europa.eu/firds/DLTINS_20210117_01of01.zip\n",
      "http://firds.esma.europa.eu/firds/DLTINS_20210117_01of01.zip\n",
      "http://firds.esma.europa.eu/firds/DLTINS_20210119_01of02.zip\n",
      "http://firds.esma.europa.eu/firds/DLTINS_20210119_01of02.zip\n",
      "http://firds.esma.europa.eu/firds/DLTINS_20210119_01of02.zip\n",
      "http://firds.esma.europa.eu/firds/DLTINS_20210119_01of02.zip\n",
      "http://firds.esma.europa.eu/firds/DLTINS_20210119_01of02.zip\n",
      "http://firds.esma.europa.eu/firds/DLTINS_20210119_01of02.zip\n",
      "http://firds.esma.europa.eu/firds/DLTINS_20210119_01of02.zip\n",
      "http://firds.esma.europa.eu/firds/DLTINS_20210119_01of02.zip\n",
      "http://firds.esma.europa.eu/firds/DLTINS_20210119_01of02.zip\n",
      "http://firds.esma.europa.eu/firds/DLTINS_20210119_01of02.zip\n",
      "http://firds.esma.europa.eu/firds/DLTINS_20210119_02of02.zip\n",
      "http://firds.esma.europa.eu/firds/DLTINS_20210119_02of02.zip\n",
      "http://firds.esma.europa.eu/firds/DLTINS_20210119_02of02.zip\n",
      "http://firds.esma.europa.eu/firds/DLTINS_20210119_02of02.zip\n",
      "http://firds.esma.europa.eu/firds/DLTINS_20210119_02of02.zip\n",
      "http://firds.esma.europa.eu/firds/DLTINS_20210119_02of02.zip\n",
      "http://firds.esma.europa.eu/firds/DLTINS_20210119_02of02.zip\n",
      "http://firds.esma.europa.eu/firds/DLTINS_20210119_02of02.zip\n",
      "http://firds.esma.europa.eu/firds/DLTINS_20210119_02of02.zip\n",
      "http://firds.esma.europa.eu/firds/DLTINS_20210119_02of02.zip\n",
      "http://firds.esma.europa.eu/firds/DLTINS_20210118_01of01.zip\n",
      "http://firds.esma.europa.eu/firds/DLTINS_20210118_01of01.zip\n",
      "http://firds.esma.europa.eu/firds/DLTINS_20210118_01of01.zip\n",
      "http://firds.esma.europa.eu/firds/DLTINS_20210118_01of01.zip\n",
      "http://firds.esma.europa.eu/firds/DLTINS_20210118_01of01.zip\n",
      "http://firds.esma.europa.eu/firds/DLTINS_20210118_01of01.zip\n",
      "http://firds.esma.europa.eu/firds/DLTINS_20210118_01of01.zip\n",
      "http://firds.esma.europa.eu/firds/DLTINS_20210118_01of01.zip\n",
      "http://firds.esma.europa.eu/firds/DLTINS_20210118_01of01.zip\n",
      "http://firds.esma.europa.eu/firds/DLTINS_20210118_01of01.zip\n"
     ]
    }
   ],
   "source": [
    "import requests\n",
    "import xml.etree.ElementTree as ET\n",
    "\n",
    "\n",
    "response = requests.get(\"https://registers.esma.europa.eu/solr/esma_registers_firds_files/select?q=*&fq=publication_date:%5B2021-01-17T00:00:00Z+TO+2021-01-19T23:59:59Z%5D&wt=xml&indent=true&start=0&rows=100\")\n",
    "root = ET.fromstring(response.text)\n",
    "for i in root.findall('result'):\n",
    "    for j in i.findall('doc'):\n",
    "        for k in j:\n",
    "            link = j.find('.//str[@name=\"download_link\"]').text\n",
    "            print(link)\n",
    "            req = requests.get(link)"
   ]
  },
  {
   "cell_type": "code",
   "execution_count": 3,
   "metadata": {},
   "outputs": [],
   "source": [
    "from xml.etree import ElementTree\n",
    "import csv\n",
    "\n",
    "# PARSE XML\n",
    "xml = ElementTree.parse(\"C:/Users/addan/OneDrive/Documents/Activision/DLTINS_20210117_01of01.xml\")\n",
    "# CREATING CSV FILE FOR OUTPUT\n",
    "csvfile = open(\"data2.csv\",'w',encoding='utf-8')\n",
    "csvfile_writer = csv.writer(csvfile)\n",
    "# ADDING THE HEADINGS TO THE CSV FILE\n",
    "csvfile_writer.writerow([\"Id\",\"FullNm\",\"ClssfctnTp\",\"CmmdtyDerivInd\"])\n",
    "# FOR EACH ATTRIBUTE FIELD IN THE CSV FILE\n",
    "for FinInstrmGnlAttrbts in xml.findall(\"FinInstrmGnlAttrbts\"):\n",
    "    if(FinInstrmGnlAttrbts):\n",
    "        # EXTRACTING THE DETAILS OF THE ATTRIBUTES\n",
    "        Id=FinInstrmGnlAttrbts.find(\"Id\")\n",
    "        FullNm=FinInstrmGnlAttrbts.find(\"FullNm\")\n",
    "        ClassfctnTp=FinInstrmGnlAttrbts.find(\"ClssfctnTp\")\n",
    "        CmmdtyDerivInd=FinInstrmGnlAttrbts.find(\"CmmdtyDerivInd\")\n",
    "        csv_line = [Id.text, FullNm.text, ClssfctnTp.text,CmmdtyDerivInd.text]\n",
    "        # ADD A NEW ROW TO CSV FILE\n",
    "        csvfile_writer.writerow(csv_line)\n",
    "csvfile.close()  \n",
    "            \n",
    "\n",
    "\n"
   ]
  },
  {
   "cell_type": "code",
   "execution_count": null,
   "metadata": {},
   "outputs": [],
   "source": []
  }
 ],
 "metadata": {
  "kernelspec": {
   "display_name": "Python 3",
   "language": "python",
   "name": "python3"
  },
  "language_info": {
   "codemirror_mode": {
    "name": "ipython",
    "version": 3
   },
   "file_extension": ".py",
   "mimetype": "text/x-python",
   "name": "python",
   "nbconvert_exporter": "python",
   "pygments_lexer": "ipython3",
   "version": "3.7.7"
  }
 },
 "nbformat": 4,
 "nbformat_minor": 4
}
